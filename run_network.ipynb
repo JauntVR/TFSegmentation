{
 "cells": [
  {
   "cell_type": "code",
   "execution_count": 1,
   "metadata": {},
   "outputs": [
    {
     "name": "stderr",
     "output_type": "stream",
     "text": [
      "/jaunt/users/trevor/anaconda3/envs/tfseggpu3.5/lib/python3.5/site-packages/h5py/__init__.py:34: FutureWarning: Conversion of the second argument of issubdtype from `float` to `np.floating` is deprecated. In future, it will be treated as `np.float64 == np.dtype(float).type`.\n",
      "  from ._conv import register_converters as _register_converters\n"
     ]
    }
   ],
   "source": [
    "import tensorflow as tf\n",
    "import h5py\n",
    "import matplotlib.pyplot as plt\n",
    "import numpy as np\n",
    "from models import unet_depthnet\n",
    "import time\n",
    "from argparse import Namespace\n",
    "import skimage.transform as st\n",
    "MAX_DEPTH = 1500\n",
    "MIN_DEPTH = 300"
   ]
  },
  {
   "cell_type": "code",
   "execution_count": 2,
   "metadata": {},
   "outputs": [
    {
     "name": "stdout",
     "output_type": "stream",
     "text": [
      "[[22. 28.]\n",
      " [49. 64.]]\n"
     ]
    }
   ],
   "source": [
    "import tensorflow as tf\n",
    "with tf.device('/gpu:0'):\n",
    "    a = tf.constant([1.0, 2.0, 3.0, 4.0, 5.0, 6.0], shape=[2, 3], name='a')\n",
    "    b = tf.constant([1.0, 2.0, 3.0, 4.0, 5.0, 6.0], shape=[3, 2], name='b')\n",
    "    c = tf.matmul(a, b)\n",
    "\n",
    "with tf.Session() as sess:\n",
    "    print (sess.run(c))"
   ]
  },
  {
   "cell_type": "code",
   "execution_count": 3,
   "metadata": {},
   "outputs": [
    {
     "data": {
      "image/png": "[encoded data removed]",
      "text/plain": [
       "<matplotlib.figure.Figure at 0x7fa750cb7630>"
      ]
     },
     "metadata": {},
     "output_type": "display_data"
    }
   ],
   "source": [
    "import matplotlib.pyplot as plt\n",
    "img = plt.imread('out/unet_depthnet/imgs/test_2')\n",
    "plt.imshow(img)\n",
    "plt.show()"
   ]
  },
  {
   "cell_type": "code",
   "execution_count": 4,
   "metadata": {
    "collapsed": true
   },
   "outputs": [],
   "source": [
    "def get_dims(img, bg_val = 0):\n",
    "    y_dim, x_dim = img.shape[:2]\n",
    "    new_shape = [0,y_dim,0,x_dim]\n",
    "    for i in range(y_dim):\n",
    "        if np.sum(img[i,:] != bg_val) > 0:\n",
    "            new_shape[0] = i\n",
    "            break\n",
    "    for j in range(y_dim):\n",
    "        i = y_dim - j - 1\n",
    "        if np.sum(img[i,:] != bg_val) > 0:\n",
    "            new_shape[1] = i\n",
    "            break\n",
    "    for i in range(x_dim):\n",
    "        if np.sum(img[:,i] != bg_val) > 0:\n",
    "            new_shape[2] = i\n",
    "            break\n",
    "    for j in range(x_dim):\n",
    "        i = x_dim - j - 1\n",
    "        if np.sum(img[:,i] != bg_val) > 0:\n",
    "            new_shape[3] = i\n",
    "            break\n",
    "\n",
    "    return new_shape\n",
    "\n",
    "def crop_pad(img, x_fin, y_fin, bg_val = 0):\n",
    "    cur_limits = get_dims(img, bg_val = bg_val)\n",
    "\n",
    "    y_dim = cur_limits[1] - cur_limits[0]\n",
    "    x_dim = cur_limits[3] - cur_limits[2]\n",
    "    img_cropped = img[cur_limits[0]:cur_limits[1],cur_limits[2]:cur_limits[3]]\n",
    "\n",
    "    if y_fin/x_fin >  y_dim/x_dim:  #need to pad in y_dim\n",
    "        pad = int((y_fin*x_dim/x_fin - y_dim)/2)\n",
    "        pad_shape = [(pad,pad),(0,0)]\n",
    "\n",
    "    else:  #need to pad in x_dim or do no padding\n",
    "        pad = int((x_fin*y_dim/y_fin - x_dim)/2)\n",
    "        pad_shape = [(0,0),(pad,pad)]\n",
    "    for i in range(len(img.shape)-len(pad_shape)):\n",
    "        pad_shape = pad_shape + [(0,0)]\n",
    "\n",
    "    pad_val = []\n",
    "    if hasattr(bg_val, '__iter__'):\n",
    "        for val in bg_val:\n",
    "            pad_val = pad_val + [(val,val)]\n",
    "    else:\n",
    "        pad_val = bg_val\n",
    "    padded = np.pad(img_cropped, pad_shape,'constant',constant_values=pad_val)\n",
    "\n",
    "    #resize\n",
    "    resized = st.resize(padded, (y_fin,x_fin),preserve_range=True)\n",
    "\n",
    "    return resized.astype('uint8')"
   ]
  },
  {
   "cell_type": "code",
   "execution_count": 5,
   "metadata": {
    "collapsed": true
   },
   "outputs": [],
   "source": [
    "latest_checkpoint = tf.train.latest_checkpoint('experiments/unet_depthnet_small/checkpoints/best')"
   ]
  },
  {
   "cell_type": "code",
   "execution_count": 6,
   "metadata": {},
   "outputs": [
    {
     "name": "stdout",
     "output_type": "stream",
     "text": [
      "INFO:tensorflow:Restoring parameters from experiments/unet_depthnet_small/checkpoints/best/-130\n"
     ]
    }
   ],
   "source": [
    "sess = tf.Session()\n",
    "saver = tf.train.import_meta_graph(latest_checkpoint+'.meta')\n",
    "saver.restore(sess, latest_checkpoint)"
   ]
  },
  {
   "cell_type": "code",
   "execution_count": 7,
   "metadata": {},
   "outputs": [],
   "source": [
    "base_path = '/jaunt/users/trevor/volcap/SyntheticData/blender/outputs/test_seq/'\n",
    "file_name = 'woman_1_conversation1_6_cam.h5'\n",
    "f = h5py.File(base_path+file_name, 'r')"
   ]
  },
  {
   "cell_type": "code",
   "execution_count": 8,
   "metadata": {},
   "outputs": [
    {
     "name": "stderr",
     "output_type": "stream",
     "text": [
      "/jaunt/users/trevor/anaconda3/envs/tfseggpu3.5/lib/python3.5/site-packages/skimage/transform/_warps.py:84: UserWarning: The default mode, 'constant', will be changed to 'reflect' in skimage 0.15.\n",
      "  warn(\"The default mode, 'constant', will be changed to 'reflect' in \"\n"
     ]
    }
   ],
   "source": [
    "frame = '0050'\n",
    "cam = 1\n",
    "\n",
    "x_batch = []\n",
    "y_batch = []\n",
    "for key in list(f.keys()):\n",
    "    if \"FRAME\" in key:\n",
    "        group = f[key]\n",
    "        y = group['RAW/CAM1/LABEL']\n",
    "        x = group['RAW/CAM1/Z']\n",
    "        depth_image_scaled = np.array(x, copy=False)\n",
    "        depth_image_scaled.clip(MIN_DEPTH, MAX_DEPTH, out=depth_image_scaled)\n",
    "        depth_image_scaled -= MIN_DEPTH\n",
    "        np.floor_divide(depth_image_scaled, (MAX_DEPTH - MIN_DEPTH + 1) / 256,\n",
    "                    out=depth_image_scaled, casting='unsafe')\n",
    "        final_image = crop_pad(depth_image_scaled, 125, 125, 0)\n",
    "        final_image = np.expand_dims(final_image, 2)\n",
    "        x_batch.append(final_image)\n",
    "        y = crop_pad(y, 125, 125, 28)\n",
    "        y_batch.append(y)"
   ]
  },
  {
   "cell_type": "code",
   "execution_count": 9,
   "metadata": {},
   "outputs": [],
   "source": [
    "x_batch = np.array(x_batch, copy=False)\n"
   ]
  },
  {
   "cell_type": "code",
   "execution_count": 10,
   "metadata": {
    "collapsed": true
   },
   "outputs": [],
   "source": [
    "\n",
    "b_size = len(x_batch)"
   ]
  },
  {
   "cell_type": "code",
   "execution_count": 11,
   "metadata": {},
   "outputs": [
    {
     "name": "stdout",
     "output_type": "stream",
     "text": [
      "\n",
      "Building the MODEL...\n",
      "Building the DepthNet..\n",
      "Layer_name: mobilenet_encoder/conv_1/cond/Merge -Output_Shape: [79, 63, 63, 32]\n",
      "Layer_name: mobilenet_encoder/conv_2_1/pointwise/cond/Merge -Output_Shape: [79, 63, 63, 64]\n",
      "Layer_name: mobilenet_encoder/conv_2_2/pointwise/cond/Merge -Output_Shape: [79, 32, 32, 128]\n",
      "Layer_name: mobilenet_encoder/conv_3_1/pointwise/cond/Merge -Output_Shape: [79, 32, 32, 128]\n",
      "Layer_name: mobilenet_encoder/conv_3_2/pointwise/cond/Merge -Output_Shape: [79, 16, 16, 256]\n",
      "Layer_name: mobilenet_encoder/conv_4_1/pointwise/cond/Merge -Output_Shape: [79, 16, 16, 256]\n",
      "Layer_name: mobilenet_encoder/conv_4_2/pointwise/cond/Merge -Output_Shape: [79, 8, 8, 512]\n",
      "Layer_name: mobilenet_encoder/conv_5_1/pointwise/cond/Merge -Output_Shape: [79, 8, 8, 512]\n",
      "Layer_name: mobilenet_encoder/conv_5_2/pointwise/cond/Merge -Output_Shape: [79, 8, 8, 512]\n",
      "Layer_name: mobilenet_encoder/conv_5_3/pointwise/cond/Merge -Output_Shape: [79, 8, 8, 512]\n",
      "Layer_name: mobilenet_encoder/conv_5_4/pointwise/cond/Merge -Output_Shape: [79, 8, 8, 512]\n",
      "Layer_name: mobilenet_encoder/conv_5_5/pointwise/cond/Merge -Output_Shape: [79, 8, 8, 512]\n",
      "Layer_name: mobilenet_encoder/conv_5_6/pointwise/cond/Merge -Output_Shape: [79, 4, 4, 1024]\n",
      "Layer_name: mobilenet_encoder/conv_6_1/pointwise/cond/Merge -Output_Shape: [79, 4, 4, 1024]\n",
      "Layer_name: mobilenet_encoder/conv_1c_1x1/conv_1c_1x1/layer_conv2d/BiasAdd -Output_Shape: [79, 4, 4, 28]\n",
      "\n",
      "Encoder DepthNet is built successfully\n",
      "\n",
      "\n",
      "Layer_name: upscale_1/expand1_1/cond/Merge -Output_Shape: [79, 4, 4, 512]\n",
      "Layer_name: upscale_1/upscale1/cond/Merge -Output_Shape: [79, 8, 8, 512]\n",
      "Layer_name: upscale_1/Add -Output_Shape: [79, 8, 8, 512]\n",
      "Layer_name: upscale_1/expand1_2/cond/Merge -Output_Shape: [79, 8, 8, 512]\n",
      "Layer_name: upscale_2/expand2_1/cond/Merge -Output_Shape: [79, 8, 8, 256]\n",
      "Layer_name: upscale_2/upscale2/cond/Merge -Output_Shape: [79, 16, 16, 256]\n",
      "Layer_name: upscale_2/Add -Output_Shape: [79, 16, 16, 256]\n",
      "Layer_name: upscale_2/expand2_2/batch_normalization/cond/Merge -Output_Shape: [79, 16, 16, 256]\n",
      "Layer_name: upscale_3/expand3_1/cond/Merge -Output_Shape: [79, 16, 16, 128]\n",
      "Layer_name: upscale_3/upscale3/cond/Merge -Output_Shape: [79, 32, 32, 128]\n",
      "Layer_name: upscale_3/Add -Output_Shape: [79, 32, 32, 128]\n",
      "Layer_name: upscale_3/expand3_2/cond/Merge -Output_Shape: [79, 32, 32, 128]\n",
      "Layer_name: upscale_4/expand4_1/cond/Merge -Output_Shape: [79, 32, 32, 64]\n",
      "Layer_name: upscale_4/upscale4/cond/Merge -Output_Shape: [79, 63, 63, 64]\n",
      "Layer_name: upscale_4/Add -Output_Shape: [79, 63, 63, 64]\n",
      "Layer_name: upscale_4/expand4_2/cond/Merge -Output_Shape: [79, 63, 63, 64]\n",
      "Layer_name: upscale_5/upscale5/cond/Merge -Output_Shape: [79, 125, 125, 64]\n",
      "Layer_name: upscale_5/expand5/cond/Merge -Output_Shape: [79, 125, 125, 32]\n",
      "Layer_name: final_score/fscore/fscore/layer_conv2d/BiasAdd -Output_Shape: [79, 125, 125, 28]\n",
      "The Model is built successfully\n",
      "\n"
     ]
    }
   ],
   "source": [
    "args = Namespace(abs_data_dir=None, batch_size=b_size, batchnorm_enabled=True, bias=0.0, checkpoint_best_dir='/jaunt/users/trevor/TFSegmentation/experiments/unet_depthnet_small/checkpoints/best/', checkpoint_dir='/jaunt/users/trevor/TFSegmentation/experiments/unet_depthnet_small/checkpoints/', config_path='unet_depthnet_train_small.yaml', data_dir='/jaunt/users/trevor/TFSegmentation/data/synthetic_seq/', data_mode='experiment', dropout_keep_prob=0.95, exp_dir='/jaunt/users/trevor/TFSegmentation/experiments/unet_depthnet_small/', freeze_encoder=False, h5_train_file=None, h5_train_len=None, h5_val_file=None, h5_val_len=None, img_height=125, img_width=125, imgs_dir='/jaunt/users/trevor/TFSegmentation/out/unet_depthnet_small/imgs/', learning_decay=1e-07, learning_decay_every=100, learning_rate=0.0001, max_to_keep=2, metrics_dir='/jaunt/users/trevor/TFSegmentation/out/unet_depthnet_small/metrics/', mode='train', model='UNetDepthNet', momentum=0.9, npy_dir='/jaunt/users/trevor/TFSegmentation/out/unet_depthnet_small/npy/', num_channels=1, num_classes=28, num_epochs=200, num_groups=3, operator='TrainPsy', out_dir='/jaunt/users/trevor/TFSegmentation/out/unet_depthnet_small/', pretrained_path='', random_cropping=False, save_every=10, shuffle=True, summary_dir='/jaunt/users/trevor/TFSegmentation/experiments/unet_depthnet_small/summaries/', targets_resize=None, test_every=10, tfrecord_train_file=None, tfrecord_train_len=None, tfrecord_val_file=None, tfrecord_val_len=None, train_data_len=2000, verbose=False, weight_decay=0.0005, weighted_loss=False, yaml_name=None)\n",
    "model = unet_depthnet.UNetDepthNet(args)\n",
    "model.build()\n",
    "\n"
   ]
  },
  {
   "cell_type": "code",
   "execution_count": 12,
   "metadata": {
    "collapsed": true
   },
   "outputs": [],
   "source": [
    "feed_dict = {model.x_pl: x_batch,\n",
    "             model.y_pl: y_batch,\n",
    "             model.is_training: False\n",
    "             }"
   ]
  },
  {
   "cell_type": "code",
   "execution_count": 13,
   "metadata": {
    "collapsed": true
   },
   "outputs": [],
   "source": [
    "init_op = tf.global_variables_initializer() \n",
    "sess.run(init_op)\n"
   ]
  },
  {
   "cell_type": "code",
   "execution_count": 14,
   "metadata": {},
   "outputs": [
    {
     "name": "stdout",
     "output_type": "stream",
     "text": [
      "1.5179955959320068\n"
     ]
    }
   ],
   "source": [
    "a = time.time()\n",
    "out_argmax, segmented_imgs = sess.run(\n",
    "                [model.out_argmax,\n",
    "                 model.segmented_summary],\n",
    "                feed_dict=feed_dict)\n",
    "b = time.time()\n",
    "print(b-a)"
   ]
  },
  {
   "cell_type": "code",
   "execution_count": 19,
   "metadata": {},
   "outputs": [
    {
     "ename": "IndexError",
     "evalue": "index 3 is out of bounds for axis 0 with size 3",
     "output_type": "error",
     "traceback": [
      "\u001b[0;31m---------------------------------------------------------------------------\u001b[0m",
      "\u001b[0;31mIndexError\u001b[0m                                Traceback (most recent call last)",
      "\u001b[0;32m<ipython-input-19-6791ebcf99e4>\u001b[0m in \u001b[0;36m<module>\u001b[0;34m()\u001b[0m\n\u001b[0;32m----> 1\u001b[0;31m \u001b[0mplt\u001b[0m\u001b[0;34m.\u001b[0m\u001b[0mimshow\u001b[0m\u001b[0;34m(\u001b[0m\u001b[0msegmented_imgs\u001b[0m\u001b[0;34m[\u001b[0m\u001b[0;36m3\u001b[0m\u001b[0;34m]\u001b[0m\u001b[0;34m)\u001b[0m\u001b[0;34m\u001b[0m\u001b[0m\n\u001b[0m\u001b[1;32m      2\u001b[0m \u001b[0mplt\u001b[0m\u001b[0;34m.\u001b[0m\u001b[0mshow\u001b[0m\u001b[0;34m(\u001b[0m\u001b[0;34m)\u001b[0m\u001b[0;34m\u001b[0m\u001b[0m\n",
      "\u001b[0;31mIndexError\u001b[0m: index 3 is out of bounds for axis 0 with size 3"
     ]
    }
   ],
   "source": [
    "plt.imshow(segmented_imgs[3])\n",
    "plt.show()"
   ]
  },
  {
   "cell_type": "code",
   "execution_count": 22,
   "metadata": {},
   "outputs": [
    {
     "data": {
      "image/png": "[encoded data removed]",
      "text/plain": [
       "<matplotlib.figure.Figure at 0x7fa6baefdb00>"
      ]
     },
     "metadata": {},
     "output_type": "display_data"
    }
   ],
   "source": [
    "plt.imshow(x_batch[2][:,:,0])\n",
    "plt.show()"
   ]
  },
  {
   "cell_type": "code",
   "execution_count": 24,
   "metadata": {},
   "outputs": [
    {
     "data": {
      "text/plain": [
       "array([  0,   1,   2,   3,   4,   5,   6,   8,  10,  12,  13,  15,  16,\n",
       "        19,  20,  22,  25,  26,  28,  30,  32,  33,  34,  35,  36,  38,\n",
       "        39,  40,  41,  43,  45,  46,  47,  48,  49,  50,  51,  52,  53,\n",
       "        54,  55,  56,  57,  58,  59,  60,  61,  62,  63,  64,  65,  66,\n",
       "        67,  68,  69,  70,  71,  72,  73,  74,  75,  76,  77,  78,  79,\n",
       "        80,  81,  82,  83,  84,  85,  86,  87,  88,  89,  90,  91,  92,\n",
       "        93,  94,  95,  96,  97,  98,  99, 100, 101, 102, 103, 104, 105,\n",
       "       106, 107, 108, 109, 110, 111, 112, 113, 114, 115, 116, 117, 118,\n",
       "       119, 120, 121, 122, 123, 124, 125, 126, 127, 128, 129, 130, 131,\n",
       "       132, 133, 134, 135, 136, 137, 138, 139, 140, 141, 142, 143, 144,\n",
       "       145, 146, 147, 148, 149, 150, 151, 152, 153, 154, 155, 156, 157,\n",
       "       158, 159, 160, 161, 162, 163, 164, 165, 166, 167, 168, 169, 170,\n",
       "       171, 172, 177, 211, 212, 213, 214, 215, 216, 217, 218, 219, 220,\n",
       "       221, 222, 223, 224, 225, 227, 228, 230, 233], dtype=uint8)"
      ]
     },
     "execution_count": 24,
     "metadata": {},
     "output_type": "execute_result"
    }
   ],
   "source": [
    "np.unique(x_batch[2])"
   ]
  },
  {
   "cell_type": "code",
   "execution_count": 76,
   "metadata": {},
   "outputs": [
    {
     "data": {
      "text/plain": [
       "(79, 125, 125)"
      ]
     },
     "execution_count": 76,
     "metadata": {},
     "output_type": "execute_result"
    }
   ],
   "source": [
    "a.shape"
   ]
  },
  {
   "cell_type": "code",
   "execution_count": null,
   "metadata": {
    "collapsed": true
   },
   "outputs": [],
   "source": []
  }
 ],
 "metadata": {
  "kernelspec": {
   "display_name": "Python 3",
   "language": "python",
   "name": "python3"
  },
  "language_info": {
   "codemirror_mode": {
    "name": "ipython",
    "version": 3
   },
   "file_extension": ".py",
   "mimetype": "text/x-python",
   "name": "python",
   "nbconvert_exporter": "python",
   "pygments_lexer": "ipython3",
   "version": "3.5.6"
  }
 },
 "nbformat": 4,
 "nbformat_minor": 2
}
