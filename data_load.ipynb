{
 "cells": [
  {
   "cell_type": "code",
   "execution_count": 21,
   "metadata": {},
   "outputs": [],
   "source": [
    "import os\n",
    "import h5py\n",
    "import tensorflow as tf\n",
    "import numpy as np\n",
    "from train.basic_train import BasicTrain\n",
    "from metrics.metrics import Metrics\n",
    "from utils.reporter import Reporter\n",
    "from utils.misc import timeit\n",
    "from utils.average_meter import FPSMeter\n",
    "\n",
    "MIN_DEPTH = 300\n",
    "MAX_DEPTH = 1500"
   ]
  },
  {
   "cell_type": "code",
   "execution_count": 22,
   "metadata": {},
   "outputs": [],
   "source": [
    "sess = tf.Session()"
   ]
  },
  {
   "cell_type": "code",
   "execution_count": 23,
   "metadata": {},
   "outputs": [
    {
     "name": "stdout",
     "output_type": "stream",
     "text": [
      "c:\\seq\\train_seq\\\n"
     ]
    }
   ],
   "source": [
    "train_seq_folder = 'c:\\\\seq\\\\train_seq\\\\'\n",
    "print(train_seq_folder)"
   ]
  },
  {
   "cell_type": "code",
   "execution_count": 24,
   "metadata": {},
   "outputs": [
    {
     "name": "stdout",
     "output_type": "stream",
     "text": [
      "['c:\\\\seq\\\\train_seq\\\\annotated_man_chicken_dance_3_cam_labeled.h5', 'c:\\\\seq\\\\train_seq\\\\annotated_woman_hand_signals_3_cam_labeled.h5', 'c:\\\\seq\\\\train_seq\\\\annotated_woman_wash_window_3_cam_labeled.h5']\n"
     ]
    }
   ],
   "source": [
    "train_seq_files = []\n",
    "for (dirpath, dirnames, filenames) in os.walk(train_seq_folder):\n",
    "    train_seq_files.extend(os.path.join(dirpath, x) for x in filenames)\n",
    "print(train_seq_files)"
   ]
  },
  {
   "cell_type": "code",
   "execution_count": 25,
   "metadata": {},
   "outputs": [],
   "source": [
    "filenames = []\n",
    "for train_seq_name in train_seq_files:\n",
    "    train_seq = h5py.File(train_seq_name, \"r\")\n",
    "    num_cameras = train_seq['INFO']['NUM_CAMERAS'].value[0]\n",
    "    num_frames = train_seq['INFO']['COUNT'].value[0]\n",
    "    train_seq.close()\n",
    "    for frame_idx in range(num_frames):\n",
    "        for cam_idx in range(num_cameras):\n",
    "            filename_str = train_seq_name + '__' + 'FRAME{:04d}/RAW/CAM{:d}/'.format(frame_idx, cam_idx)\n",
    "            filenames.append(filename_str)\n",
    "            "
   ]
  },
  {
   "cell_type": "code",
   "execution_count": 26,
   "metadata": {},
   "outputs": [],
   "source": [
    "def _read_hdf5_func(filename, label):\n",
    "    filename_decoded = filename.decode(\"utf-8\")\n",
    "    print(filename_decoded)\n",
    "    h5_file_name, group_name = filename_decoded.split('__')\n",
    "    h5_file = h5py.File(h5_file_name, \"r\")\n",
    "    #print(group_name)\n",
    "    \n",
    "    # Read depth image\n",
    "    depth_image_path = group_name + 'Z'\n",
    "    depth_image = h5_file[depth_image_path].value\n",
    "    depth_image_scaled = np.array(depth_image, copy=False)\n",
    "    depth_image_scaled.clip(MIN_DEPTH, MAX_DEPTH, out=depth_image_scaled)\n",
    "    depth_image_scaled -= MIN_DEPTH\n",
    "    np.floor_divide(depth_image_scaled, (MAX_DEPTH - MIN_DEPTH + 1) / 256,\n",
    "                    out=depth_image_scaled, casting='unsafe')\n",
    "    \n",
    "    depth_image_scaled = depth_image_scaled.astype(np.uint8)\n",
    "    \n",
    "    # Read labels\n",
    "    label_image_path = group_name + 'LABEL'\n",
    "    label_image = h5_file[label_image_path].value\n",
    "    h5_file.close()\n",
    "    return depth_image_scaled, label_image\n",
    "\n",
    "labels = [0]*len(filenames)\n",
    "dataset = tf.data.Dataset.from_tensor_slices((filenames, labels))\n",
    "dataset = dataset.shuffle(buffer_size=10000)\n",
    "dataset = dataset.map(\n",
    "    lambda filename, label: tuple(tf.py_func(\n",
    "        _read_hdf5_func, [filename, labels], [tf.uint8, tf.uint8])), num_parallel_calls=1)\n",
    "\n",
    "\n",
    "dataset = dataset.batch(1)\n",
    "dataset = dataset.repeat()\n",
    "dataset = dataset.prefetch(1)"
   ]
  },
  {
   "cell_type": "code",
   "execution_count": 27,
   "metadata": {},
   "outputs": [
    {
     "name": "stdout",
     "output_type": "stream",
     "text": [
      "c:\\seq\\train_seq\\annotated_woman_hand_signals_3_cam_labeled.h5__FRAME0173/RAW/CAM2/\n",
      "c:\\seq\\train_seq\\annotated_woman_wash_window_3_cam_labeled.h5__FRAME0095/RAW/CAM2/"
     ]
    },
    {
     "data": {
      "text/plain": [
       "(array([[[0, 0, 0, ..., 0, 0, 0],\n",
       "         [0, 0, 0, ..., 0, 0, 0],\n",
       "         [0, 0, 0, ..., 0, 0, 0],\n",
       "         ...,\n",
       "         [0, 0, 0, ..., 0, 0, 0],\n",
       "         [0, 0, 0, ..., 0, 0, 0],\n",
       "         [0, 0, 0, ..., 0, 0, 0]]], dtype=uint8),\n",
       " array([[[27, 27, 27, ..., 27, 27, 27],\n",
       "         [27, 27, 27, ..., 27, 27, 27],\n",
       "         [27, 27, 27, ..., 27, 27, 27],\n",
       "         ...,\n",
       "         [27, 27, 27, ..., 27, 27, 27],\n",
       "         [27, 27, 27, ..., 27, 27, 27],\n",
       "         [27, 27, 27, ..., 27, 27, 27]]], dtype=uint8))"
      ]
     },
     "execution_count": 27,
     "metadata": {},
     "output_type": "execute_result"
    },
    {
     "name": "stdout",
     "output_type": "stream",
     "text": [
      "\n"
     ]
    }
   ],
   "source": [
    "iterator = dataset.make_one_shot_iterator()\n",
    "next_example = iterator.get_next()\n",
    "\n",
    "sess.run(next_example)\n"
   ]
  },
  {
   "cell_type": "code",
   "execution_count": null,
   "metadata": {},
   "outputs": [],
   "source": []
  },
  {
   "cell_type": "code",
   "execution_count": null,
   "metadata": {},
   "outputs": [],
   "source": []
  }
 ],
 "metadata": {
  "kernelspec": {
   "display_name": "Python 3",
   "language": "python",
   "name": "python3"
  },
  "language_info": {
   "codemirror_mode": {
    "name": "ipython",
    "version": 3
   },
   "file_extension": ".py",
   "mimetype": "text/x-python",
   "name": "python",
   "nbconvert_exporter": "python",
   "pygments_lexer": "ipython3",
   "version": "3.6.5"
  }
 },
 "nbformat": 4,
 "nbformat_minor": 2
}
